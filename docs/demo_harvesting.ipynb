{
 "cells": [
  {
   "cell_type": "code",
   "execution_count": 1,
   "metadata": {},
   "outputs": [],
   "source": [
    "import vedo\n",
    "import inspect\n",
    "from functools import wraps\n",
    "import numpy as np\n",
    "import os\n",
    "import pandas as pd\n",
    "import yaml"
   ]
  },
  {
   "cell_type": "code",
   "execution_count": 3,
   "metadata": {},
   "outputs": [],
   "source": [
    "def napari_compatible(func):\n",
    "    sig = inspect.signature(func)\n",
    "    params = list(sig.parameters.values())\n",
    "    \n",
    "    # Change the type annotation of all arguments (not keyword arguments) to SurfaceData\n",
    "    for i, param in enumerate(params):\n",
    "        if param.default == param.empty:\n",
    "            params[i] = inspect.Parameter(f'Input_mesh_{i}', param.kind, annotation='napari.types.SurfaceData')\n",
    "            \n",
    "    new_sig = sig.replace(parameters=params)\n",
    "    \n",
    "    @wraps(func)\n",
    "    def wrapper(surface_data, *args, **kwargs):\n",
    "\n",
    "        mesh = vedo.Mesh(surface_data)\n",
    "        result = func(mesh, *args, **kwargs)\n",
    "        return (result.points(), np.asarray(result.faces()))\n",
    "    \n",
    "    wrapper.__signature__ = new_sig\n",
    "    return wrapper\n",
    "        "
   ]
  },
  {
   "cell_type": "code",
   "execution_count": 5,
   "metadata": {},
   "outputs": [
    {
     "data": {
      "text/plain": [
       "<function vedo.mesh.Mesh.decimate(Input_mesh_0: 'napari.types.SurfaceData', fraction=0.5, n=None, preserve_volume=True, regularization=0.0) -> 'Mesh'>"
      ]
     },
     "execution_count": 5,
     "metadata": {},
     "output_type": "execute_result"
    }
   ],
   "source": [
    "functions_dict = [x for x  in inspect.getmembers(vedo.Mesh) if x[0] == '__dict__'][0][1]\n",
    "function = functions_dict['decimate']\n",
    "compatible_function = napari_compatible(function)\n",
    "compatible_function"
   ]
  },
  {
   "cell_type": "code",
   "execution_count": 6,
   "metadata": {},
   "outputs": [
    {
     "data": {
      "text/plain": [
       "'Mesh'"
      ]
     },
     "execution_count": 6,
     "metadata": {},
     "output_type": "execute_result"
    }
   ],
   "source": [
    "signature = inspect.signature(compatible_function)\n",
    "signature.return_annotation"
   ]
  },
  {
   "cell_type": "code",
   "execution_count": 7,
   "metadata": {},
   "outputs": [],
   "source": [
    "class VedoFunctions:\n",
    "    pass\n",
    "\n",
    "# Create an instance of the Functions class\n",
    "functions = VedoFunctions()\n",
    "\n",
    "# keep track of the functions that are added\n",
    "functions_to_add_to_yaml = []"
   ]
  },
  {
   "cell_type": "code",
   "execution_count": 8,
   "metadata": {},
   "outputs": [
    {
     "name": "stdout",
     "output_type": "stream",
     "text": [
      "__module__ is not a callable\n",
      "__doc__ is not a callable\n",
      "edges is not a callable\n",
      "cell_normals is not a callable\n"
     ]
    },
    {
     "data": {
      "text/html": [
       "<div>\n",
       "<style scoped>\n",
       "    .dataframe tbody tr th:only-of-type {\n",
       "        vertical-align: middle;\n",
       "    }\n",
       "\n",
       "    .dataframe tbody tr th {\n",
       "        vertical-align: top;\n",
       "    }\n",
       "\n",
       "    .dataframe thead th {\n",
       "        text-align: right;\n",
       "    }\n",
       "</style>\n",
       "<table border=\"1\" class=\"dataframe\">\n",
       "  <thead>\n",
       "    <tr style=\"text-align: right;\">\n",
       "      <th></th>\n",
       "      <th>command_name</th>\n",
       "      <th>python_name</th>\n",
       "      <th>description</th>\n",
       "    </tr>\n",
       "  </thead>\n",
       "  <tbody>\n",
       "    <tr>\n",
       "      <th>0</th>\n",
       "      <td>napari-vedo-bridge.compute_normals</td>\n",
       "      <td>napari_vedo_bridge.compute_normals</td>\n",
       "      <td>Compute cell and vertex normals for the mesh.</td>\n",
       "    </tr>\n",
       "    <tr>\n",
       "      <th>1</th>\n",
       "      <td>napari-vedo-bridge.reverse</td>\n",
       "      <td>napari_vedo_bridge.reverse</td>\n",
       "      <td>Reverse the order of polygonal cells</td>\n",
       "    </tr>\n",
       "    <tr>\n",
       "      <th>2</th>\n",
       "      <td>napari-vedo-bridge.non_manifold_faces</td>\n",
       "      <td>napari_vedo_bridge.non_manifold_faces</td>\n",
       "      <td>Detect and (try to) remove non-manifold faces ...</td>\n",
       "    </tr>\n",
       "    <tr>\n",
       "      <th>3</th>\n",
       "      <td>napari-vedo-bridge.shrink</td>\n",
       "      <td>napari_vedo_bridge.shrink</td>\n",
       "      <td>Shrink the triangle polydata in the representa...</td>\n",
       "    </tr>\n",
       "    <tr>\n",
       "      <th>4</th>\n",
       "      <td>napari-vedo-bridge.cap</td>\n",
       "      <td>napari_vedo_bridge.cap</td>\n",
       "      <td>Generate a \"cap\" on a clipped mesh, or caps sh...</td>\n",
       "    </tr>\n",
       "  </tbody>\n",
       "</table>\n",
       "</div>"
      ],
      "text/plain": [
       "                            command_name  \\\n",
       "0     napari-vedo-bridge.compute_normals   \n",
       "1             napari-vedo-bridge.reverse   \n",
       "2  napari-vedo-bridge.non_manifold_faces   \n",
       "3              napari-vedo-bridge.shrink   \n",
       "4                 napari-vedo-bridge.cap   \n",
       "\n",
       "                             python_name  \\\n",
       "0     napari_vedo_bridge.compute_normals   \n",
       "1             napari_vedo_bridge.reverse   \n",
       "2  napari_vedo_bridge.non_manifold_faces   \n",
       "3              napari_vedo_bridge.shrink   \n",
       "4                 napari_vedo_bridge.cap   \n",
       "\n",
       "                                         description  \n",
       "0      Compute cell and vertex normals for the mesh.  \n",
       "1               Reverse the order of polygonal cells  \n",
       "2  Detect and (try to) remove non-manifold faces ...  \n",
       "3  Shrink the triangle polydata in the representa...  \n",
       "4  Generate a \"cap\" on a clipped mesh, or caps sh...  "
      ]
     },
     "execution_count": 8,
     "metadata": {},
     "output_type": "execute_result"
    }
   ],
   "source": [
    "for name, func in functions_dict.items():\n",
    "    if not callable(func):\n",
    "        print(f'{name} is not a callable')\n",
    "        continue\n",
    "\n",
    "    signature = inspect.signature(func)\n",
    "    if signature.return_annotation == 'Mesh':\n",
    "        setattr(functions, name, napari_compatible(func))\n",
    "\n",
    "        description = func.__doc__.split('\\n')\n",
    "        description.remove('') if '' in description else None\n",
    "        description = [x.strip() for x in description][0]\n",
    "\n",
    "        functions_to_add_to_yaml.append(\n",
    "            {'command_name': 'napari-vedo-bridge.' + func.__name__,\n",
    "                'python_name': 'napari_vedo_bridge.' + func.__name__,\n",
    "                'description': description})\n",
    "\n",
    "globals()['vedo_functions'] = functions\n",
    "\n",
    "functions_to_add_to_yaml = pd.DataFrame(functions_to_add_to_yaml)\n",
    "functions_to_add_to_yaml.head()"
   ]
  },
  {
   "cell_type": "code",
   "execution_count": 9,
   "metadata": {},
   "outputs": [],
   "source": [
    "# Create a dictionary for name and display_name\n",
    "metadata = {\n",
    "    'name': 'napari-vedo-brdige',\n",
    "    'display_name': 'Vedo'\n",
    "}\n",
    "\n",
    "# Create a dictionary for contributions\n",
    "contributions = {\n",
    "    'commands': [],\n",
    "    'widgets': []\n",
    "}\n",
    "\n",
    "for index, row in functions_to_add_to_yaml.iterrows():\n",
    "    command_entry = {\n",
    "        'id': row['command_name'],\n",
    "        'python_name': row['python_name'],\n",
    "        'title': row['description']\n",
    "    }\n",
    "\n",
    "    widget_entry = {\n",
    "        'command': row['command_name'],\n",
    "        'autogenerate': True,\n",
    "        'display_name': row['description']\n",
    "    }\n",
    "\n",
    "    contributions['commands'].append(command_entry)\n",
    "    contributions['widgets'].append(widget_entry)"
   ]
  },
  {
   "cell_type": "code",
   "execution_count": 10,
   "metadata": {},
   "outputs": [],
   "source": [
    "# Write the dictionary to a YAML file\n",
    "with open('output.yaml', 'w') as yaml_file:\n",
    "    yaml.dump(metadata, yaml_file, default_flow_style=False)\n",
    "    yaml.dump(contributions, yaml_file, default_flow_style=False)"
   ]
  },
  {
   "cell_type": "code",
   "execution_count": null,
   "metadata": {},
   "outputs": [],
   "source": []
  }
 ],
 "metadata": {
  "kernelspec": {
   "display_name": "napari-vedo",
   "language": "python",
   "name": "python3"
  },
  "language_info": {
   "codemirror_mode": {
    "name": "ipython",
    "version": 3
   },
   "file_extension": ".py",
   "mimetype": "text/x-python",
   "name": "python",
   "nbconvert_exporter": "python",
   "pygments_lexer": "ipython3",
   "version": "3.9.16"
  },
  "orig_nbformat": 4
 },
 "nbformat": 4,
 "nbformat_minor": 2
}
