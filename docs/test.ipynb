{
 "cells": [
  {
   "cell_type": "code",
   "execution_count": 1,
   "metadata": {},
   "outputs": [],
   "source": [
    "import vedo\n",
    "import pandas as pd\n",
    "import numpy as np\n",
    "import napari\n",
    "\n",
    "from napari_timelapse_processor import TimelapseConverter"
   ]
  },
  {
   "cell_type": "code",
   "execution_count": 2,
   "metadata": {},
   "outputs": [],
   "source": [
    "Converter = TimelapseConverter()\n",
    "viewer = napari.Viewer(ndisplay=3)"
   ]
  },
  {
   "cell_type": "code",
   "execution_count": 3,
   "metadata": {},
   "outputs": [],
   "source": [
    "vedo_surfaces = [vedo.IcoSphere() for i in range(100)]\n",
    "\n",
    "period = 200\n",
    "\n",
    "for t, surface in enumerate(vedo_surfaces):\n",
    "    amplitude = np.random.normal(scale=0.01, size=surface.vertices.shape)\n",
    "    offset = amplitude * np.sin(t / period * 2 * np.pi)\n",
    "    surface.vertices += offset\n",
    "\n",
    "mesh_tuples = [(surface.vertices, np.asarray(surface.cells).astype(int)) for surface in vedo_surfaces]\n",
    "mesh_4d = Converter.stack_data(mesh_tuples, layertype='napari.types.SurfaceData')"
   ]
  },
  {
   "cell_type": "code",
   "execution_count": 4,
   "metadata": {},
   "outputs": [
    {
     "data": {
      "text/plain": [
       "<Surface layer 'test_surface' at 0x22538bb1880>"
      ]
     },
     "execution_count": 4,
     "metadata": {},
     "output_type": "execute_result"
    }
   ],
   "source": [
    "viewer.layers.clear()\n",
    "viewer.add_surface(mesh_4d, name='test_surface', blending='translucent')"
   ]
  },
  {
   "cell_type": "code",
   "execution_count": 6,
   "metadata": {},
   "outputs": [],
   "source": [
    "from napari_vedo_bridge._writer import write_surfaces"
   ]
  },
  {
   "cell_type": "code",
   "execution_count": 8,
   "metadata": {},
   "outputs": [
    {
     "name": "stderr",
     "output_type": "stream",
     "text": []
    },
    {
     "name": "stderr",
     "output_type": "stream",
     "text": [
      "100%|██████████| 100/100 [00:01<00:00, 80.79it/s]\n"
     ]
    },
    {
     "ename": "AttributeError",
     "evalue": "'tuple' object has no attribute 'features'",
     "output_type": "error",
     "traceback": [
      "\u001b[1;31m---------------------------------------------------------------------------\u001b[0m",
      "\u001b[1;31mAttributeError\u001b[0m                            Traceback (most recent call last)",
      "Cell \u001b[1;32mIn[8], line 1\u001b[0m\n\u001b[1;32m----> 1\u001b[0m \u001b[43mviewer\u001b[49m\u001b[38;5;241;43m.\u001b[39;49m\u001b[43mopen\u001b[49m\u001b[43m(\u001b[49m\u001b[38;5;124;43mr\u001b[39;49m\u001b[38;5;124;43m'\u001b[39;49m\u001b[38;5;124;43mC:\u001b[39;49m\u001b[38;5;124;43m\\\u001b[39;49m\u001b[38;5;124;43mUsers\u001b[39;49m\u001b[38;5;124;43m\\\u001b[39;49m\u001b[38;5;124;43mjohan\u001b[39;49m\u001b[38;5;124;43m\\\u001b[39;49m\u001b[38;5;124;43mOneDrive\u001b[39;49m\u001b[38;5;124;43m\\\u001b[39;49m\u001b[38;5;124;43mDesktop\u001b[39;49m\u001b[38;5;124;43m\\\u001b[39;49m\u001b[38;5;124;43mtest\u001b[39;49m\u001b[38;5;124;43m'\u001b[39;49m\u001b[43m,\u001b[49m\u001b[43m \u001b[49m\u001b[43mplugin\u001b[49m\u001b[38;5;241;43m=\u001b[39;49m\u001b[38;5;124;43m'\u001b[39;49m\u001b[38;5;124;43mnapari-vedo-bridge\u001b[39;49m\u001b[38;5;124;43m'\u001b[39;49m\u001b[43m)\u001b[49m\n",
      "File \u001b[1;32mc:\\Users\\johan\\mambaforge\\envs\\stress\\lib\\site-packages\\napari\\components\\viewer_model.py:1095\u001b[0m, in \u001b[0;36mViewerModel.open\u001b[1;34m(self, path, stack, plugin, layer_type, **kwargs)\u001b[0m\n\u001b[0;32m   1092\u001b[0m _path \u001b[38;5;241m=\u001b[39m [_path] \u001b[38;5;28;01mif\u001b[39;00m \u001b[38;5;129;01mnot\u001b[39;00m \u001b[38;5;28misinstance\u001b[39m(_path, \u001b[38;5;28mlist\u001b[39m) \u001b[38;5;28;01melse\u001b[39;00m _path\n\u001b[0;32m   1093\u001b[0m \u001b[38;5;28;01mif\u001b[39;00m plugin:\n\u001b[0;32m   1094\u001b[0m     added\u001b[38;5;241m.\u001b[39mextend(\n\u001b[1;32m-> 1095\u001b[0m         \u001b[38;5;28;43mself\u001b[39;49m\u001b[38;5;241;43m.\u001b[39;49m\u001b[43m_add_layers_with_plugins\u001b[49m\u001b[43m(\u001b[49m\n\u001b[0;32m   1096\u001b[0m \u001b[43m            \u001b[49m\u001b[43m_path\u001b[49m\u001b[43m,\u001b[49m\n\u001b[0;32m   1097\u001b[0m \u001b[43m            \u001b[49m\u001b[43mkwargs\u001b[49m\u001b[38;5;241;43m=\u001b[39;49m\u001b[43mkwargs\u001b[49m\u001b[43m,\u001b[49m\n\u001b[0;32m   1098\u001b[0m \u001b[43m            \u001b[49m\u001b[43mplugin\u001b[49m\u001b[38;5;241;43m=\u001b[39;49m\u001b[43mplugin\u001b[49m\u001b[43m,\u001b[49m\n\u001b[0;32m   1099\u001b[0m \u001b[43m            \u001b[49m\u001b[43mlayer_type\u001b[49m\u001b[38;5;241;43m=\u001b[39;49m\u001b[43mlayer_type\u001b[49m\u001b[43m,\u001b[49m\n\u001b[0;32m   1100\u001b[0m \u001b[43m            \u001b[49m\u001b[43mstack\u001b[49m\u001b[38;5;241;43m=\u001b[39;49m\u001b[43m_stack\u001b[49m\u001b[43m,\u001b[49m\n\u001b[0;32m   1101\u001b[0m \u001b[43m        \u001b[49m\u001b[43m)\u001b[49m\n\u001b[0;32m   1102\u001b[0m     )\n\u001b[0;32m   1103\u001b[0m \u001b[38;5;66;03m# no plugin choice was made\u001b[39;00m\n\u001b[0;32m   1104\u001b[0m \u001b[38;5;28;01melse\u001b[39;00m:\n\u001b[0;32m   1105\u001b[0m     layers \u001b[38;5;241m=\u001b[39m \u001b[38;5;28mself\u001b[39m\u001b[38;5;241m.\u001b[39m_open_or_raise_error(\n\u001b[0;32m   1106\u001b[0m         _path, kwargs, layer_type, _stack\n\u001b[0;32m   1107\u001b[0m     )\n",
      "File \u001b[1;32mc:\\Users\\johan\\mambaforge\\envs\\stress\\lib\\site-packages\\napari\\components\\viewer_model.py:1295\u001b[0m, in \u001b[0;36mViewerModel._add_layers_with_plugins\u001b[1;34m(self, paths, stack, kwargs, plugin, layer_type)\u001b[0m\n\u001b[0;32m   1293\u001b[0m \u001b[38;5;28;01melse\u001b[39;00m:\n\u001b[0;32m   1294\u001b[0m     \u001b[38;5;28;01massert\u001b[39;00m \u001b[38;5;28mlen\u001b[39m(paths) \u001b[38;5;241m==\u001b[39m \u001b[38;5;241m1\u001b[39m\n\u001b[1;32m-> 1295\u001b[0m     layer_data, hookimpl \u001b[38;5;241m=\u001b[39m \u001b[43mread_data_with_plugins\u001b[49m\u001b[43m(\u001b[49m\n\u001b[0;32m   1296\u001b[0m \u001b[43m        \u001b[49m\u001b[43mpaths\u001b[49m\u001b[43m,\u001b[49m\u001b[43m \u001b[49m\u001b[43mplugin\u001b[49m\u001b[38;5;241;43m=\u001b[39;49m\u001b[43mplugin\u001b[49m\u001b[43m,\u001b[49m\u001b[43m \u001b[49m\u001b[43mstack\u001b[49m\u001b[38;5;241;43m=\u001b[39;49m\u001b[43mstack\u001b[49m\n\u001b[0;32m   1297\u001b[0m \u001b[43m    \u001b[49m\u001b[43m)\u001b[49m\n\u001b[0;32m   1299\u001b[0m \u001b[38;5;66;03m# glean layer names from filename. These will be used as *fallback*\u001b[39;00m\n\u001b[0;32m   1300\u001b[0m \u001b[38;5;66;03m# names, if the plugin does not return a name kwarg in their meta dict.\u001b[39;00m\n\u001b[0;32m   1301\u001b[0m filenames \u001b[38;5;241m=\u001b[39m []\n",
      "File \u001b[1;32mc:\\Users\\johan\\mambaforge\\envs\\stress\\lib\\site-packages\\napari\\plugins\\io.py:77\u001b[0m, in \u001b[0;36mread_data_with_plugins\u001b[1;34m(paths, plugin, stack)\u001b[0m\n\u001b[0;32m     74\u001b[0m     \u001b[38;5;28;01massert\u001b[39;00m \u001b[38;5;28mlen\u001b[39m(paths) \u001b[38;5;241m==\u001b[39m \u001b[38;5;241m1\u001b[39m\n\u001b[0;32m     75\u001b[0m hookimpl: Optional[HookImplementation]\n\u001b[1;32m---> 77\u001b[0m res \u001b[38;5;241m=\u001b[39m \u001b[43m_npe2\u001b[49m\u001b[38;5;241;43m.\u001b[39;49m\u001b[43mread\u001b[49m\u001b[43m(\u001b[49m\u001b[43mpaths\u001b[49m\u001b[43m,\u001b[49m\u001b[43m \u001b[49m\u001b[43mplugin\u001b[49m\u001b[43m,\u001b[49m\u001b[43m \u001b[49m\u001b[43mstack\u001b[49m\u001b[38;5;241;43m=\u001b[39;49m\u001b[43mstack\u001b[49m\u001b[43m)\u001b[49m\n\u001b[0;32m     78\u001b[0m \u001b[38;5;28;01mif\u001b[39;00m res \u001b[38;5;129;01mis\u001b[39;00m \u001b[38;5;129;01mnot\u001b[39;00m \u001b[38;5;28;01mNone\u001b[39;00m:\n\u001b[0;32m     79\u001b[0m     _ld, hookimpl \u001b[38;5;241m=\u001b[39m res\n",
      "File \u001b[1;32mc:\\Users\\johan\\mambaforge\\envs\\stress\\lib\\site-packages\\napari\\plugins\\_npe2.py:63\u001b[0m, in \u001b[0;36mread\u001b[1;34m(paths, plugin, stack)\u001b[0m\n\u001b[0;32m     61\u001b[0m     npe1_path \u001b[38;5;241m=\u001b[39m paths[\u001b[38;5;241m0\u001b[39m]\n\u001b[0;32m     62\u001b[0m \u001b[38;5;28;01mtry\u001b[39;00m:\n\u001b[1;32m---> 63\u001b[0m     layer_data, reader \u001b[38;5;241m=\u001b[39m \u001b[43mio_utils\u001b[49m\u001b[38;5;241;43m.\u001b[39;49m\u001b[43mread_get_reader\u001b[49m\u001b[43m(\u001b[49m\n\u001b[0;32m     64\u001b[0m \u001b[43m        \u001b[49m\u001b[43mnpe1_path\u001b[49m\u001b[43m,\u001b[49m\u001b[43m \u001b[49m\u001b[43mplugin_name\u001b[49m\u001b[38;5;241;43m=\u001b[39;49m\u001b[43mplugin\u001b[49m\n\u001b[0;32m     65\u001b[0m \u001b[43m    \u001b[49m\u001b[43m)\u001b[49m\n\u001b[0;32m     66\u001b[0m \u001b[38;5;28;01mexcept\u001b[39;00m \u001b[38;5;167;01mValueError\u001b[39;00m \u001b[38;5;28;01mas\u001b[39;00m e:\n\u001b[0;32m     67\u001b[0m     \u001b[38;5;66;03m# plugin wasn't passed and no reader was found\u001b[39;00m\n\u001b[0;32m     68\u001b[0m     \u001b[38;5;28;01mif\u001b[39;00m \u001b[38;5;124m'\u001b[39m\u001b[38;5;124mNo readers returned data\u001b[39m\u001b[38;5;124m'\u001b[39m \u001b[38;5;129;01mnot\u001b[39;00m \u001b[38;5;129;01min\u001b[39;00m \u001b[38;5;28mstr\u001b[39m(e):\n",
      "File \u001b[1;32mc:\\Users\\johan\\mambaforge\\envs\\stress\\lib\\site-packages\\npe2\\io_utils.py:66\u001b[0m, in \u001b[0;36mread_get_reader\u001b[1;34m(path, plugin_name, stack)\u001b[0m\n\u001b[0;32m     62\u001b[0m \u001b[38;5;28;01mif\u001b[39;00m stack \u001b[38;5;129;01mis\u001b[39;00m \u001b[38;5;28;01mNone\u001b[39;00m:\n\u001b[0;32m     63\u001b[0m     \u001b[38;5;66;03m# \"npe1\" old path\u001b[39;00m\n\u001b[0;32m     64\u001b[0m     \u001b[38;5;66;03m# Napari 0.4.15 and older, hopefully we can drop this and make stack mandatory\u001b[39;00m\n\u001b[0;32m     65\u001b[0m     new_path, new_stack \u001b[38;5;241m=\u001b[39m v1_to_v2(path)\n\u001b[1;32m---> 66\u001b[0m     \u001b[38;5;28;01mreturn\u001b[39;00m \u001b[43m_read\u001b[49m\u001b[43m(\u001b[49m\n\u001b[0;32m     67\u001b[0m \u001b[43m        \u001b[49m\u001b[43mnew_path\u001b[49m\u001b[43m,\u001b[49m\u001b[43m \u001b[49m\u001b[43mplugin_name\u001b[49m\u001b[38;5;241;43m=\u001b[39;49m\u001b[43mplugin_name\u001b[49m\u001b[43m,\u001b[49m\u001b[43m \u001b[49m\u001b[43mreturn_reader\u001b[49m\u001b[38;5;241;43m=\u001b[39;49m\u001b[38;5;28;43;01mTrue\u001b[39;49;00m\u001b[43m,\u001b[49m\u001b[43m \u001b[49m\u001b[43mstack\u001b[49m\u001b[38;5;241;43m=\u001b[39;49m\u001b[43mnew_stack\u001b[49m\n\u001b[0;32m     68\u001b[0m \u001b[43m    \u001b[49m\u001b[43m)\u001b[49m\n\u001b[0;32m     69\u001b[0m \u001b[38;5;28;01melse\u001b[39;00m:\n\u001b[0;32m     70\u001b[0m     \u001b[38;5;28;01massert\u001b[39;00m \u001b[38;5;28misinstance\u001b[39m(path, \u001b[38;5;28mlist\u001b[39m)\n",
      "File \u001b[1;32mc:\\Users\\johan\\mambaforge\\envs\\stress\\lib\\site-packages\\npe2\\io_utils.py:172\u001b[0m, in \u001b[0;36m_read\u001b[1;34m(paths, stack, plugin_name, return_reader, _pm)\u001b[0m\n\u001b[0;32m    167\u001b[0m     read_func \u001b[38;5;241m=\u001b[39m rdr\u001b[38;5;241m.\u001b[39mexec(\n\u001b[0;32m    168\u001b[0m         kwargs\u001b[38;5;241m=\u001b[39m{\u001b[38;5;124m\"\u001b[39m\u001b[38;5;124mpath\u001b[39m\u001b[38;5;124m\"\u001b[39m: paths, \u001b[38;5;124m\"\u001b[39m\u001b[38;5;124mstack\u001b[39m\u001b[38;5;124m\"\u001b[39m: stack, \u001b[38;5;124m\"\u001b[39m\u001b[38;5;124m_registry\u001b[39m\u001b[38;5;124m\"\u001b[39m: _pm\u001b[38;5;241m.\u001b[39mcommands}\n\u001b[0;32m    169\u001b[0m     )\n\u001b[0;32m    170\u001b[0m     \u001b[38;5;28;01mif\u001b[39;00m read_func \u001b[38;5;129;01mis\u001b[39;00m \u001b[38;5;129;01mnot\u001b[39;00m \u001b[38;5;28;01mNone\u001b[39;00m:\n\u001b[0;32m    171\u001b[0m         \u001b[38;5;66;03m# if the reader function raises an exception here, we don't try to catch it\u001b[39;00m\n\u001b[1;32m--> 172\u001b[0m         \u001b[38;5;28;01mif\u001b[39;00m layer_data \u001b[38;5;241m:=\u001b[39m \u001b[43mread_func\u001b[49m\u001b[43m(\u001b[49m\u001b[43mpaths\u001b[49m\u001b[43m,\u001b[49m\u001b[43m \u001b[49m\u001b[43mstack\u001b[49m\u001b[38;5;241;43m=\u001b[39;49m\u001b[43mstack\u001b[49m\u001b[43m)\u001b[49m:\n\u001b[0;32m    173\u001b[0m             \u001b[38;5;28;01mreturn\u001b[39;00m (layer_data, rdr) \u001b[38;5;28;01mif\u001b[39;00m return_reader \u001b[38;5;28;01melse\u001b[39;00m layer_data\n\u001b[0;32m    175\u001b[0m \u001b[38;5;28;01mif\u001b[39;00m plugin_name:\n",
      "File \u001b[1;32mc:\\Users\\johan\\mambaforge\\envs\\stress\\lib\\site-packages\\npe2\\manifest\\contributions\\_readers.py:59\u001b[0m, in \u001b[0;36mReaderContribution.exec.<locals>.npe1_compat\u001b[1;34m(paths, stack)\u001b[0m\n\u001b[0;32m     56\u001b[0m \u001b[38;5;129m@wraps\u001b[39m(callable_)\n\u001b[0;32m     57\u001b[0m \u001b[38;5;28;01mdef\u001b[39;00m \u001b[38;5;21mnpe1_compat\u001b[39m(paths, \u001b[38;5;241m*\u001b[39m, stack):\n\u001b[0;32m     58\u001b[0m     path \u001b[38;5;241m=\u001b[39m v2_to_v1(paths, stack)\n\u001b[1;32m---> 59\u001b[0m     \u001b[38;5;28;01mreturn\u001b[39;00m \u001b[43mcallable_\u001b[49m\u001b[43m(\u001b[49m\u001b[43mpath\u001b[49m\u001b[43m)\u001b[49m\n",
      "File \u001b[1;32mE:\\BiAPoL\\Projects\\napari-vedo-bridge\\src\\napari_vedo_bridge\\_reader.py:65\u001b[0m, in \u001b[0;36mpoints_reader\u001b[1;34m(path)\u001b[0m\n\u001b[0;32m     63\u001b[0m \u001b[38;5;66;03m# Stack output layer and return\u001b[39;00m\n\u001b[0;32m     64\u001b[0m Converter \u001b[38;5;241m=\u001b[39m TimelapseConverter()\n\u001b[1;32m---> 65\u001b[0m layer_4d \u001b[38;5;241m=\u001b[39m \u001b[43mConverter\u001b[49m\u001b[38;5;241;43m.\u001b[39;49m\u001b[43mstack_data\u001b[49m\u001b[43m(\u001b[49m\u001b[43mlayers\u001b[49m\u001b[43m,\u001b[49m\u001b[43m \u001b[49m\u001b[43mlayertype\u001b[49m\u001b[38;5;241;43m=\u001b[39;49m\u001b[43mLayer\u001b[49m\u001b[43m)\u001b[49m\n\u001b[0;32m     66\u001b[0m data \u001b[38;5;241m=\u001b[39m layer_4d\u001b[38;5;241m.\u001b[39mdata\n\u001b[0;32m     67\u001b[0m properties \u001b[38;5;241m=\u001b[39m {\n\u001b[0;32m     68\u001b[0m     \u001b[38;5;124m'\u001b[39m\u001b[38;5;124mfeatures\u001b[39m\u001b[38;5;124m'\u001b[39m: layer_4d\u001b[38;5;241m.\u001b[39mfeatures,\n\u001b[0;32m     69\u001b[0m     \u001b[38;5;124m'\u001b[39m\u001b[38;5;124msize\u001b[39m\u001b[38;5;124m'\u001b[39m: \u001b[38;5;241m0.5\u001b[39m\n\u001b[0;32m     70\u001b[0m }\n",
      "File \u001b[1;32mE:\\BiAPoL\\Projects\\napari-timelapse-processor\\src\\napari_timelapse_processor\\timelapse_converter.py:132\u001b[0m, in \u001b[0;36mTimelapseConverter.stack_data\u001b[1;34m(self, data, layertype)\u001b[0m\n\u001b[0;32m    128\u001b[0m     \u001b[38;5;28;01mraise\u001b[39;00m \u001b[38;5;167;01mTypeError\u001b[39;00m(\n\u001b[0;32m    129\u001b[0m         \u001b[38;5;124mf\u001b[39m\u001b[38;5;124m\"\u001b[39m\u001b[38;5;132;01m{\u001b[39;00mlayertype\u001b[38;5;132;01m}\u001b[39;00m\u001b[38;5;124m list to data conversion currently not supported.\u001b[39m\u001b[38;5;124m\"\u001b[39m\n\u001b[0;32m    130\u001b[0m     )\n\u001b[0;32m    131\u001b[0m conversion_function \u001b[38;5;241m=\u001b[39m \u001b[38;5;28mself\u001b[39m\u001b[38;5;241m.\u001b[39mstack_data_functions[layertype]\n\u001b[1;32m--> 132\u001b[0m \u001b[38;5;28;01mreturn\u001b[39;00m \u001b[43mconversion_function\u001b[49m\u001b[43m(\u001b[49m\u001b[43mdata\u001b[49m\u001b[43m)\u001b[49m\n",
      "File \u001b[1;32mE:\\BiAPoL\\Projects\\napari-timelapse-processor\\src\\napari_timelapse_processor\\timelapse_converter.py:331\u001b[0m, in \u001b[0;36mTimelapseConverter._stack_layer\u001b[1;34m(self, layers)\u001b[0m\n\u001b[0;32m    328\u001b[0m     output_data \u001b[38;5;241m=\u001b[39m \u001b[38;5;28mself\u001b[39m\u001b[38;5;241m.\u001b[39m_stack_image([layer\u001b[38;5;241m.\u001b[39mdata \u001b[38;5;28;01mfor\u001b[39;00m layer \u001b[38;5;129;01min\u001b[39;00m layers])\n\u001b[0;32m    330\u001b[0m \u001b[38;5;66;03m# concatenate features, adding a 'frame' column to indicate the list index\u001b[39;00m\n\u001b[1;32m--> 331\u001b[0m feature_list \u001b[38;5;241m=\u001b[39m [layer\u001b[38;5;241m.\u001b[39mfeatures \u001b[38;5;28;01mfor\u001b[39;00m layer \u001b[38;5;129;01min\u001b[39;00m layers]\n\u001b[0;32m    332\u001b[0m output_features \u001b[38;5;241m=\u001b[39m pd\u001b[38;5;241m.\u001b[39mconcat(\n\u001b[0;32m    333\u001b[0m     [f\u001b[38;5;241m.\u001b[39massign(frame\u001b[38;5;241m=\u001b[39mi) \u001b[38;5;28;01mfor\u001b[39;00m i, f \u001b[38;5;129;01min\u001b[39;00m \u001b[38;5;28menumerate\u001b[39m(feature_list)]\n\u001b[0;32m    334\u001b[0m )\n\u001b[0;32m    336\u001b[0m \u001b[38;5;66;03m# If metadata is present, concatenate it. Metadata is tyically a dictionary and cannot easily be handled by pandas\u001b[39;00m\n",
      "File \u001b[1;32mE:\\BiAPoL\\Projects\\napari-timelapse-processor\\src\\napari_timelapse_processor\\timelapse_converter.py:331\u001b[0m, in \u001b[0;36m<listcomp>\u001b[1;34m(.0)\u001b[0m\n\u001b[0;32m    328\u001b[0m     output_data \u001b[38;5;241m=\u001b[39m \u001b[38;5;28mself\u001b[39m\u001b[38;5;241m.\u001b[39m_stack_image([layer\u001b[38;5;241m.\u001b[39mdata \u001b[38;5;28;01mfor\u001b[39;00m layer \u001b[38;5;129;01min\u001b[39;00m layers])\n\u001b[0;32m    330\u001b[0m \u001b[38;5;66;03m# concatenate features, adding a 'frame' column to indicate the list index\u001b[39;00m\n\u001b[1;32m--> 331\u001b[0m feature_list \u001b[38;5;241m=\u001b[39m [\u001b[43mlayer\u001b[49m\u001b[38;5;241;43m.\u001b[39;49m\u001b[43mfeatures\u001b[49m \u001b[38;5;28;01mfor\u001b[39;00m layer \u001b[38;5;129;01min\u001b[39;00m layers]\n\u001b[0;32m    332\u001b[0m output_features \u001b[38;5;241m=\u001b[39m pd\u001b[38;5;241m.\u001b[39mconcat(\n\u001b[0;32m    333\u001b[0m     [f\u001b[38;5;241m.\u001b[39massign(frame\u001b[38;5;241m=\u001b[39mi) \u001b[38;5;28;01mfor\u001b[39;00m i, f \u001b[38;5;129;01min\u001b[39;00m \u001b[38;5;28menumerate\u001b[39m(feature_list)]\n\u001b[0;32m    334\u001b[0m )\n\u001b[0;32m    336\u001b[0m \u001b[38;5;66;03m# If metadata is present, concatenate it. Metadata is tyically a dictionary and cannot easily be handled by pandas\u001b[39;00m\n",
      "\u001b[1;31mAttributeError\u001b[0m: 'tuple' object has no attribute 'features'"
     ]
    }
   ],
   "source": [
    "viewer.open(r'C:\\Users\\johan\\OneDrive\\Desktop\\test', plugin='napari-vedo-bridge')"
   ]
  },
  {
   "cell_type": "code",
   "execution_count": null,
   "metadata": {},
   "outputs": [],
   "source": []
  }
 ],
 "metadata": {
  "kernelspec": {
   "display_name": "stress",
   "language": "python",
   "name": "python3"
  },
  "language_info": {
   "codemirror_mode": {
    "name": "ipython",
    "version": 3
   },
   "file_extension": ".py",
   "mimetype": "text/x-python",
   "name": "python",
   "nbconvert_exporter": "python",
   "pygments_lexer": "ipython3",
   "version": "3.9.19"
  }
 },
 "nbformat": 4,
 "nbformat_minor": 2
}
